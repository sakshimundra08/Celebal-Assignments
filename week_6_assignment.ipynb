{
  "cells": [
    {
      "cell_type": "code",
      "execution_count": 16,
      "id": "8b2ddf38",
      "metadata": {
        "colab": {
          "base_uri": "https://localhost:8080/"
        },
        "id": "8b2ddf38",
        "outputId": "609b2e62-f199-4586-cb8b-013e607fadff"
      },
      "outputs": [
        {
          "output_type": "stream",
          "name": "stdout",
          "text": [
            "   class  Alcohol  Malic acid   Ash  Alcalinity of ash  Magnesium  \\\n",
            "0      1    14.23        1.71  2.43               15.6        127   \n",
            "1      1    13.20        1.78  2.14               11.2        100   \n",
            "2      1    13.16        2.36  2.67               18.6        101   \n",
            "3      1    14.37        1.95  2.50               16.8        113   \n",
            "4      1    13.24        2.59  2.87               21.0        118   \n",
            "\n",
            "   Total phenols  Flavanoids  Nonflavanoid phenols  Proanthocyanins  \\\n",
            "0           2.80        3.06                  0.28             2.29   \n",
            "1           2.65        2.76                  0.26             1.28   \n",
            "2           2.80        3.24                  0.30             2.81   \n",
            "3           3.85        3.49                  0.24             2.18   \n",
            "4           2.80        2.69                  0.39             1.82   \n",
            "\n",
            "   Color intensity   Hue  OD280/OD315 of diluted wines  Proline   \n",
            "0             5.64  1.04                          3.92      1065  \n",
            "1             4.38  1.05                          3.40      1050  \n",
            "2             5.68  1.03                          3.17      1185  \n",
            "3             7.80  0.86                          3.45      1480  \n",
            "4             4.32  1.04                          2.93       735  \n",
            "class\n",
            "2    71\n",
            "1    59\n",
            "3    48\n",
            "Name: count, dtype: int64\n"
          ]
        }
      ],
      "source": [
        "import pandas as pd\n",
        "\n",
        "df = pd.read_csv(\"Wine dataset.csv\")\n",
        "\n",
        "print(df.head())\n",
        "print(df[\"class\"].value_counts())\n"
      ]
    },
    {
      "cell_type": "code",
      "execution_count": 17,
      "id": "e1c0a57c",
      "metadata": {
        "id": "e1c0a57c"
      },
      "outputs": [],
      "source": [
        "X = df.drop(\"class\", axis=1)\n",
        "y = df[\"class\"]\n",
        "\n",
        "from sklearn.model_selection import train_test_split\n",
        "X_train, X_test, y_train, y_test = train_test_split(\n",
        "    X, y, test_size=0.2, stratify=y, random_state=42\n",
        ")\n"
      ]
    },
    {
      "cell_type": "code",
      "execution_count": 18,
      "id": "dbd07ff0",
      "metadata": {
        "id": "dbd07ff0"
      },
      "outputs": [],
      "source": [
        "from sklearn.preprocessing import StandardScaler\n",
        "\n",
        "scaler = StandardScaler()\n",
        "X_train = scaler.fit_transform(X_train)\n",
        "X_test = scaler.transform(X_test)\n"
      ]
    },
    {
      "cell_type": "code",
      "execution_count": 19,
      "id": "1b4a46bd",
      "metadata": {
        "id": "1b4a46bd"
      },
      "outputs": [],
      "source": [
        "from sklearn.linear_model import LogisticRegression\n",
        "from sklearn.ensemble import RandomForestClassifier\n",
        "from sklearn.svm import SVC\n",
        "from sklearn.neighbors import KNeighborsClassifier\n",
        "from sklearn.tree import DecisionTreeClassifier\n",
        "\n",
        "models = {\n",
        "    \"Logistic Regression\": LogisticRegression(max_iter=1000),\n",
        "    \"Random Forest\": RandomForestClassifier(),\n",
        "    \"SVM\": SVC(),\n",
        "    \"KNN\": KNeighborsClassifier(),\n",
        "    \"Decision Tree\": DecisionTreeClassifier()\n",
        "}\n",
        "\n"
      ]
    },
    {
      "cell_type": "code",
      "execution_count": 20,
      "id": "7041454d",
      "metadata": {
        "colab": {
          "base_uri": "https://localhost:8080/"
        },
        "id": "7041454d",
        "outputId": "e008c1c2-2db5-448b-89ea-e8ff9698efb5"
      },
      "outputs": [
        {
          "output_type": "stream",
          "name": "stdout",
          "text": [
            "--- Logistic Regression ---\n",
            "Accuracy: 0.9722\n",
            "Precision: 0.9741\n",
            "Recall: 0.9722\n",
            "F1 Score: 0.9720\n",
            "\n",
            "--- Random Forest ---\n",
            "Accuracy: 1.0000\n",
            "Precision: 1.0000\n",
            "Recall: 1.0000\n",
            "F1 Score: 1.0000\n",
            "\n",
            "--- SVM ---\n",
            "Accuracy: 0.9722\n",
            "Precision: 0.9741\n",
            "Recall: 0.9722\n",
            "F1 Score: 0.9720\n",
            "\n",
            "--- KNN ---\n",
            "Accuracy: 0.9722\n",
            "Precision: 0.9747\n",
            "Recall: 0.9722\n",
            "F1 Score: 0.9724\n",
            "\n",
            "--- Decision Tree ---\n",
            "Accuracy: 0.9167\n",
            "Precision: 0.9204\n",
            "Recall: 0.9167\n",
            "F1 Score: 0.9174\n",
            "\n"
          ]
        }
      ],
      "source": [
        "from sklearn.metrics import accuracy_score, precision_score, recall_score, f1_score\n",
        "\n",
        "results = {}\n",
        "for name, model in models.items():\n",
        "    model.fit(X_train, y_train)\n",
        "    y_pred = model.predict(X_test)\n",
        "    results[name] = {\n",
        "        'Accuracy': accuracy_score(y_test, y_pred),\n",
        "        'Precision': precision_score(y_test, y_pred, average='weighted'),\n",
        "        'Recall': recall_score(y_test, y_pred, average='weighted'),\n",
        "        'F1 Score': f1_score(y_test, y_pred, average='weighted')\n",
        "    }\n",
        "\n",
        "for name, metrics in results.items():\n",
        "    print(f\"--- {name} ---\")\n",
        "    for metric_name, value in metrics.items():\n",
        "        print(f\"{metric_name}: {value:.4f}\")\n",
        "    print()\n"
      ]
    },
    {
      "cell_type": "code",
      "execution_count": 21,
      "id": "e0247ca0",
      "metadata": {
        "colab": {
          "base_uri": "https://localhost:8080/"
        },
        "id": "e0247ca0",
        "outputId": "0c66a34e-e768-4b35-c6a1-a5dce6011569"
      },
      "outputs": [
        {
          "output_type": "stream",
          "name": "stdout",
          "text": [
            "Best Parameters: {'max_depth': 10, 'min_samples_split': 4, 'n_estimators': 121}\n",
            "Best F1 Score: 0.9926570048309179\n"
          ]
        }
      ],
      "source": [
        "from sklearn.model_selection import RandomizedSearchCV\n",
        "from scipy.stats import randint\n",
        "\n",
        "param_dist = {\n",
        "    \"n_estimators\": randint(50, 200),\n",
        "    \"max_depth\": [None, 5, 10, 20],\n",
        "    \"min_samples_split\": randint(2, 10)\n",
        "}\n",
        "\n",
        "search = RandomizedSearchCV(RandomForestClassifier(), param_distributions=param_dist,\n",
        "                            n_iter=10, cv=5, scoring=\"f1_macro\", random_state=42)\n",
        "search.fit(X_train, y_train)\n",
        "\n",
        "print(\"Best Parameters:\", search.best_params_)\n",
        "print(\"Best F1 Score:\", search.best_score_)\n"
      ]
    },
    {
      "cell_type": "code",
      "execution_count": 23,
      "id": "b854c330",
      "metadata": {
        "colab": {
          "base_uri": "https://localhost:8080/",
          "height": 626
        },
        "id": "b854c330",
        "outputId": "52313016-24c2-4139-ffe0-6f7d53199f4d"
      },
      "outputs": [
        {
          "output_type": "stream",
          "name": "stdout",
          "text": [
            "              precision    recall  f1-score   support\n",
            "\n",
            "           1       1.00      1.00      1.00        12\n",
            "           2       1.00      1.00      1.00        14\n",
            "           3       1.00      1.00      1.00        10\n",
            "\n",
            "    accuracy                           1.00        36\n",
            "   macro avg       1.00      1.00      1.00        36\n",
            "weighted avg       1.00      1.00      1.00        36\n",
            "\n"
          ]
        },
        {
          "output_type": "display_data",
          "data": {
            "text/plain": [
              "<Figure size 640x480 with 2 Axes>"
            ],
            "image/png": "[encoded data removed]"
          },
          "metadata": {}
        }
      ],
      "source": [
        "from sklearn.metrics import classification_report, confusion_matrix\n",
        "import seaborn as sns\n",
        "import matplotlib.pyplot as plt\n",
        "\n",
        "best_model = search.best_estimator_\n",
        "y_pred = best_model.predict(X_test)\n",
        "\n",
        "print(classification_report(y_test, y_pred))\n",
        "sns.heatmap(confusion_matrix(y_test, y_pred), annot=True, fmt=\"d\", cmap=\"Blues\")\n",
        "plt.title(\"Confusion Matrix\")\n",
        "plt.show()\n"
      ]
    },
    {
      "cell_type": "code",
      "execution_count": 24,
      "id": "8f3d4ab7",
      "metadata": {
        "colab": {
          "base_uri": "https://localhost:8080/"
        },
        "id": "8f3d4ab7",
        "outputId": "8c477f33-e666-4ad3-d633-cc5e80297587"
      },
      "outputs": [
        {
          "output_type": "stream",
          "name": "stdout",
          "text": [
            "Initial Model Performance:\n",
            "                     Accuracy  Precision    Recall  F1 Score\n",
            "Logistic Regression  0.972222   0.974074  0.972222  0.971970\n",
            "Random Forest        1.000000   1.000000  1.000000  1.000000\n",
            "SVM                  0.972222   0.974074  0.972222  0.971970\n",
            "KNN                  0.972222   0.974747  0.972222  0.972369\n",
            "Decision Tree        0.916667   0.920370  0.916667  0.917372\n"
          ]
        }
      ],
      "source": [
        "results_df = pd.DataFrame(results).T\n",
        "print(\"Initial Model Performance:\")\n",
        "print(results_df)"
      ]
    },
    {
      "cell_type": "code",
      "source": [
        "best_model = results_df['F1 Score'].idxmax()\n",
        "print(f\"\\nBest Performing Model: {best_model}\")"
      ],
      "metadata": {
        "colab": {
          "base_uri": "https://localhost:8080/"
        },
        "id": "Nk3BLyeMzTZ2",
        "outputId": "08a7d3da-0e0d-455c-d714-95bd37f03ad3"
      },
      "id": "Nk3BLyeMzTZ2",
      "execution_count": 25,
      "outputs": [
        {
          "output_type": "stream",
          "name": "stdout",
          "text": [
            "\n",
            "Best Performing Model: Random Forest\n"
          ]
        }
      ]
    }
  ],
  "metadata": {
    "kernelspec": {
      "display_name": "base",
      "language": "python",
      "name": "python3"
    },
    "language_info": {
      "codemirror_mode": {
        "name": "ipython",
        "version": 3
      },
      "file_extension": ".py",
      "mimetype": "text/x-python",
      "name": "python",
      "nbconvert_exporter": "python",
      "pygments_lexer": "ipython3",
      "version": "3.11.7"
    },
    "colab": {
      "provenance": []
    }
  },
  "nbformat": 4,
  "nbformat_minor": 5
}